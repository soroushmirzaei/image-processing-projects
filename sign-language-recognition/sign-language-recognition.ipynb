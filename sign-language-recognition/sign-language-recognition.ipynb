{
  "nbformat": 4,
  "nbformat_minor": 0,
  "metadata": {
    "colab": {
      "name": "sign-language-recognition.ipynb",
      "provenance": [],
      "collapsed_sections": [],
      "mount_file_id": "1QEBw9q_BpuuOkwjAAgY0OtL8ez09jkYM",
      "authorship_tag": "ABX9TyPpJdR8HTKSylXJ1ckLsZlk",
      "include_colab_link": true
    },
    "kernelspec": {
      "name": "python3",
      "display_name": "Python 3"
    },
    "language_info": {
      "name": "python"
    },
    "accelerator": "GPU",
    "gpuClass": "standard"
  },
  "cells": [
    {
      "cell_type": "markdown",
      "metadata": {
        "id": "view-in-github",
        "colab_type": "text"
      },
      "source": [
        "<a href=\"https://colab.research.google.com/github/soroushmirzaei/convolutional-neural-networks-projects/blob/main/sign-language-recognition/sign-language-recognition.ipynb\" target=\"_parent\"><img src=\"https://colab.research.google.com/assets/colab-badge.svg\" alt=\"Open In Colab\"/></a>"
      ]
    },
    {
      "cell_type": "code",
      "execution_count": null,
      "metadata": {
        "id": "SIYC55FdPdC2"
      },
      "outputs": [],
      "source": [
        "#import requirements libraries\n",
        "import os\n",
        "import zipfile\n",
        "import time\n",
        "\n",
        "#import mathematics statics libraries\n",
        "import numpy as np\n",
        "import pandas as pd\n",
        "\n",
        "#import visualization libraries\n",
        "import matplotlib.pyplot as plt\n",
        "import seaborn as sns\n",
        "\n",
        "#import machine learning deep learning libraries\n",
        "import tensorflow as tf\n",
        "from tensorflow import keras"
      ]
    },
    {
      "cell_type": "code",
      "source": [
        "# sign_mnist_train.csv\n",
        "!gdown 1z0DkA9BytlLxO1C0BAWzknLyQmZAp0HR\n",
        "# sign_mnist_test.csv\n",
        "!gdown 1z1BIj4qmri59GWBG4ivMNFtpZ4AXIbzg\n"
      ],
      "metadata": {
        "id": "MoSF2nLmWewQ",
        "colab": {
          "base_uri": "https://localhost:8080/"
        },
        "outputId": "a0bae03c-2064-4434-aa9f-ab5e323670ed"
      },
      "execution_count": null,
      "outputs": [
        {
          "output_type": "stream",
          "name": "stdout",
          "text": [
            "Downloading...\n",
            "From: https://drive.google.com/uc?id=1z0DkA9BytlLxO1C0BAWzknLyQmZAp0HR\n",
            "To: /content/sign_mnist_train.csv\n",
            "100% 83.3M/83.3M [00:00<00:00, 138MB/s]\n",
            "Downloading...\n",
            "From: https://drive.google.com/uc?id=1z1BIj4qmri59GWBG4ivMNFtpZ4AXIbzg\n",
            "To: /content/sign_mnist_test.csv\n",
            "100% 21.8M/21.8M [00:00<00:00, 124MB/s]\n"
          ]
        }
      ]
    },
    {
      "cell_type": "code",
      "source": [
        "#load training validation dataset\n",
        "train_data = pd.read_csv('/content/sign_mnist_train.csv')\n",
        "valid_data = pd.read_csv('/content/sign_mnist_test.csv')\n"
      ],
      "metadata": {
        "id": "wNv_lbPNY0cN"
      },
      "execution_count": null,
      "outputs": []
    },
    {
      "cell_type": "code",
      "source": [
        "#define input and output of the model\n",
        "inp_train = train_data.drop('label', axis = 1)\n",
        "out_train = train_data['label']\n",
        "\n",
        "inp_valid = valid_data.drop('label', axis = 1)\n",
        "out_valid = valid_data['label']\n",
        "\n",
        "#return array and expand dims\n",
        "inp_train = np.expand_dims(inp_train.values, -1)\n",
        "out_train = out_train.values\n",
        "\n",
        "inp_valid = np.expand_dims(inp_valid.values, -1)\n",
        "out_valid = out_valid.values\n",
        "\n",
        "#reshape input data\n",
        "inp_train = np.reshape(inp_train, (-1,28,28,1))\n",
        "inp_valid = np.reshape(inp_valid, (-1,28,28,1))\n"
      ],
      "metadata": {
        "id": "zF7Z28omZRnm"
      },
      "execution_count": null,
      "outputs": []
    },
    {
      "cell_type": "code",
      "source": [
        "Height = 150\n",
        "Width = 150\n",
        "train_gen = keras.preprocessing.image.ImageDataGenerator(rescale = 1/255,\n",
        "                                                         height_shift_range = 0.1, width_shift_range = 0.1,\n",
        "                                                         zoom_range = 0.1, fill_mode = 'nearest')\n",
        "train_data = keras.preprocessing.image.NumpyArrayIterator(inp_train, out_train, train_gen,\n",
        "                                                          seed = 0)\n",
        "\n",
        "test_gen = keras.preprocessing.image.ImageDataGenerator(rescale = 1/255)\n",
        "test_data = keras.preprocessing.image.NumpyArrayIterator(inp_valid, out_valid, test_gen,\n",
        "                                                         seed = 0)\n"
      ],
      "metadata": {
        "id": "BhK-i6rPvglQ"
      },
      "execution_count": null,
      "outputs": []
    },
    {
      "cell_type": "code",
      "source": [
        "#create model function\n",
        "def create_model(inp_shape, conv_layers_num, conv_filters, conv_kernel_size,\n",
        "                 dense_layers_num, dense_drop_ratio, dense_units, out_drop_ratio, out_units, out_activation,\n",
        "                 compile_optimizer, compile_loss , compile_metric, conv_activation = 'relu', dense_activation = 'relu',\n",
        "                 #layers batch drop configuration\n",
        "                 conv_base = True, dense_head = True, batch_norm_conv = True,\n",
        "                 batch_norm_dense = True, batch_norm_out = True, drop_dense = True, drop_out = True):\n",
        "    \n",
        "    input = keras.Input(inp_shape)\n",
        "    out = input\n",
        "\n",
        "    #define convolution layers\n",
        "    if conv_base:\n",
        "        for i in range(conv_layers_num):\n",
        "            if batch_norm_conv:\n",
        "                out = keras.layers.BatchNormalization()(out)\n",
        "            out = keras.layers.Conv2D(filters = conv_filters[i],\n",
        "                                      kernel_size = conv_kernel_size[i], activation = conv_activation,\n",
        "                                      kernel_initializer = keras.initializers.GlorotNormal(), padding = 'same')(out)\n",
        "            out = keras.layers.MaxPool2D(pool_size = 2, padding = 'same')(out)\n",
        "\n",
        "    #convert two dims to one dim\n",
        "    out = keras.layers.Flatten()(out)\n",
        "\n",
        "    #define dense layers\n",
        "    if dense_head:\n",
        "        for i in range(dense_layers_num):\n",
        "            if batch_norm_dense:\n",
        "                out = keras.layers.BatchNormalization()(out)\n",
        "            out = keras.layers.Dense(units = dense_units[i], activation = dense_activation,\n",
        "                                     kernel_initializer = keras.initializers.HeNormal())(out)\n",
        "            if drop_dense:\n",
        "                out = keras.layers.Dropout(dense_drop_ratio[i])(out)\n",
        "\n",
        "    #define output layers\n",
        "    if batch_norm_out:\n",
        "        out = keras.layers.Dropout(out_drop_ratio)(out)\n",
        "    if drop_out:\n",
        "        out = keras.layers.BatchNormalization()(out)\n",
        "    output = keras.layers.Dense(units = out_units, activation = out_activation)(out)\n",
        "\n",
        "    model = keras.models.Model(input, output)\n",
        "\n",
        "    #define model compile\n",
        "    model.compile(optimizer = compile_optimizer,\n",
        "                  loss = compile_loss,\n",
        "                  metrics = compile_metric)\n",
        "\n",
        "    return model\n"
      ],
      "metadata": {
        "id": "_xnYj4neVWVN"
      },
      "execution_count": null,
      "outputs": []
    },
    {
      "cell_type": "code",
      "source": [
        "#define custom callbacks\n",
        "class callback(keras.callbacks.Callback):\n",
        "    def on_epoch_end(self, epoch, logs = None):\n",
        "        self.model.save('/content/sign-language-recognition-model.h5')\n",
        "        "
      ],
      "metadata": {
        "id": "AbKkF-OEvHwR"
      },
      "execution_count": null,
      "outputs": []
    },
    {
      "cell_type": "code",
      "source": [
        "#create model\n",
        "model = create_model(inp_shape = (inp_train.shape[1], inp_train.shape[2], 1),\n",
        "                     conv_layers_num = 3, conv_filters = [128, 128, 128], conv_kernel_size = [3, 3, 3],\n",
        "                     dense_layers_num = 2, dense_drop_ratio = [0.3, 0.3] , dense_units = [512, 512], out_drop_ratio = 0.3, out_units = 26,\n",
        "                     out_activation = 'softmax', compile_optimizer = 'adam', compile_loss ='sparse_categorical_crossentropy' ,\n",
        "                     compile_metric = ['accuracy'],\n",
        "                     conv_activation = 'relu', dense_activation = 'relu', conv_base = True, dense_head = True,\n",
        "                     batch_norm_conv = True, batch_norm_dense = True, batch_norm_out = True, drop_dense = True, drop_out = True)\n"
      ],
      "metadata": {
        "id": "Tu-f1qv2hBtD"
      },
      "execution_count": null,
      "outputs": []
    },
    {
      "cell_type": "code",
      "source": [
        "#print model summary\n",
        "model.summary(120)\n"
      ],
      "metadata": {
        "id": "7tbypQCLA5Ve",
        "colab": {
          "base_uri": "https://localhost:8080/"
        },
        "outputId": "14290d8d-1fe7-43a7-f6e6-927c4502644f"
      },
      "execution_count": null,
      "outputs": [
        {
          "output_type": "stream",
          "name": "stdout",
          "text": [
            "Model: \"model\"\n",
            "________________________________________________________________________________________________________________________\n",
            " Layer (type)                                         Output Shape                                    Param #           \n",
            "========================================================================================================================\n",
            " input_1 (InputLayer)                                 [(None, 28, 28, 1)]                             0                 \n",
            "                                                                                                                        \n",
            " batch_normalization (BatchNormalization)             (None, 28, 28, 1)                               4                 \n",
            "                                                                                                                        \n",
            " conv2d (Conv2D)                                      (None, 28, 28, 128)                             1280              \n",
            "                                                                                                                        \n",
            " max_pooling2d (MaxPooling2D)                         (None, 14, 14, 128)                             0                 \n",
            "                                                                                                                        \n",
            " batch_normalization_1 (BatchNormalization)           (None, 14, 14, 128)                             512               \n",
            "                                                                                                                        \n",
            " conv2d_1 (Conv2D)                                    (None, 14, 14, 128)                             147584            \n",
            "                                                                                                                        \n",
            " max_pooling2d_1 (MaxPooling2D)                       (None, 7, 7, 128)                               0                 \n",
            "                                                                                                                        \n",
            " batch_normalization_2 (BatchNormalization)           (None, 7, 7, 128)                               512               \n",
            "                                                                                                                        \n",
            " conv2d_2 (Conv2D)                                    (None, 7, 7, 128)                               147584            \n",
            "                                                                                                                        \n",
            " max_pooling2d_2 (MaxPooling2D)                       (None, 4, 4, 128)                               0                 \n",
            "                                                                                                                        \n",
            " flatten (Flatten)                                    (None, 2048)                                    0                 \n",
            "                                                                                                                        \n",
            " batch_normalization_3 (BatchNormalization)           (None, 2048)                                    8192              \n",
            "                                                                                                                        \n",
            " dense (Dense)                                        (None, 512)                                     1049088           \n",
            "                                                                                                                        \n",
            " dropout (Dropout)                                    (None, 512)                                     0                 \n",
            "                                                                                                                        \n",
            " batch_normalization_4 (BatchNormalization)           (None, 512)                                     2048              \n",
            "                                                                                                                        \n",
            " dense_1 (Dense)                                      (None, 512)                                     262656            \n",
            "                                                                                                                        \n",
            " dropout_1 (Dropout)                                  (None, 512)                                     0                 \n",
            "                                                                                                                        \n",
            " dropout_2 (Dropout)                                  (None, 512)                                     0                 \n",
            "                                                                                                                        \n",
            " batch_normalization_5 (BatchNormalization)           (None, 512)                                     2048              \n",
            "                                                                                                                        \n",
            " dense_2 (Dense)                                      (None, 26)                                      13338             \n",
            "                                                                                                                        \n",
            "========================================================================================================================\n",
            "Total params: 1,634,846\n",
            "Trainable params: 1,628,188\n",
            "Non-trainable params: 6,658\n",
            "________________________________________________________________________________________________________________________\n"
          ]
        }
      ]
    },
    {
      "cell_type": "code",
      "source": [
        "#fit model for training\n",
        "model.fit(train_data, validation_data = test_data, epochs = 50,\n",
        "          callbacks = [keras.callbacks.EarlyStopping(patience = 10, restore_best_weights = True, monitor = 'val_accuracy'),\n",
        "                       callback(), keras.callbacks.ReduceLROnPlateau('val_accuracy', patience = 2, factor = 0.01)]\n",
        "          )\n"
      ],
      "metadata": {
        "id": "J3IZZX3i-6VC",
        "colab": {
          "base_uri": "https://localhost:8080/"
        },
        "outputId": "c4cde5ce-d132-4573-931e-934c5d6469c6"
      },
      "execution_count": null,
      "outputs": [
        {
          "output_type": "stream",
          "name": "stdout",
          "text": [
            "Epoch 1/50\n",
            "858/858 [==============================] - 25s 15ms/step - loss: 0.8479 - accuracy: 0.7423 - val_loss: 0.0601 - val_accuracy: 0.9835 - lr: 0.0010\n",
            "Epoch 2/50\n",
            "858/858 [==============================] - 12s 14ms/step - loss: 0.1289 - accuracy: 0.9585 - val_loss: 0.0104 - val_accuracy: 0.9974 - lr: 0.0010\n",
            "Epoch 3/50\n",
            "858/858 [==============================] - 12s 15ms/step - loss: 0.0827 - accuracy: 0.9733 - val_loss: 0.0117 - val_accuracy: 0.9948 - lr: 0.0010\n",
            "Epoch 4/50\n",
            "858/858 [==============================] - 13s 15ms/step - loss: 0.0569 - accuracy: 0.9823 - val_loss: 0.0067 - val_accuracy: 0.9987 - lr: 0.0010\n",
            "Epoch 5/50\n",
            "858/858 [==============================] - 14s 17ms/step - loss: 0.0494 - accuracy: 0.9846 - val_loss: 0.0262 - val_accuracy: 0.9915 - lr: 0.0010\n",
            "Epoch 6/50\n",
            "858/858 [==============================] - 12s 14ms/step - loss: 0.0455 - accuracy: 0.9852 - val_loss: 0.0127 - val_accuracy: 0.9950 - lr: 0.0010\n",
            "Epoch 7/50\n",
            "858/858 [==============================] - 13s 15ms/step - loss: 0.0285 - accuracy: 0.9915 - val_loss: 0.0056 - val_accuracy: 0.9980 - lr: 1.0000e-05\n",
            "Epoch 8/50\n",
            "858/858 [==============================] - 14s 17ms/step - loss: 0.0211 - accuracy: 0.9932 - val_loss: 0.0046 - val_accuracy: 0.9980 - lr: 1.0000e-05\n",
            "Epoch 9/50\n",
            "858/858 [==============================] - 21s 24ms/step - loss: 0.0202 - accuracy: 0.9938 - val_loss: 0.0048 - val_accuracy: 0.9980 - lr: 1.0000e-07\n",
            "Epoch 10/50\n",
            "858/858 [==============================] - 19s 22ms/step - loss: 0.0174 - accuracy: 0.9950 - val_loss: 0.0041 - val_accuracy: 0.9985 - lr: 1.0000e-07\n",
            "Epoch 11/50\n",
            "858/858 [==============================] - 19s 21ms/step - loss: 0.0198 - accuracy: 0.9938 - val_loss: 0.0048 - val_accuracy: 0.9980 - lr: 1.0000e-09\n",
            "Epoch 12/50\n",
            "858/858 [==============================] - 13s 15ms/step - loss: 0.0201 - accuracy: 0.9932 - val_loss: 0.0044 - val_accuracy: 0.9983 - lr: 1.0000e-09\n",
            "Epoch 13/50\n",
            "858/858 [==============================] - 12s 14ms/step - loss: 0.0196 - accuracy: 0.9936 - val_loss: 0.0047 - val_accuracy: 0.9979 - lr: 1.0000e-11\n",
            "Epoch 14/50\n",
            "858/858 [==============================] - 19s 22ms/step - loss: 0.0191 - accuracy: 0.9944 - val_loss: 0.0052 - val_accuracy: 0.9978 - lr: 1.0000e-11\n"
          ]
        }
      ]
    },
    {
      "cell_type": "code",
      "source": [
        "#plot history and logger\n",
        "pd.DataFrame(model.history.history)[['loss', 'val_loss']].plot(figsize = (9, 6), linewidth = 3)\n",
        "plt.grid(linestyle = '--', linewidth = 2)\n",
        "plt.show()\n"
      ],
      "metadata": {
        "id": "15x7dLePYEHJ",
        "colab": {
          "base_uri": "https://localhost:8080/",
          "height": 374
        },
        "outputId": "c6728fe8-c85b-418c-e815-5687015efd06"
      },
      "execution_count": null,
      "outputs": [
        {
          "output_type": "display_data",
          "data": {
            "text/plain": [
              "<Figure size 648x432 with 1 Axes>"
            ],
            "image/png": "[encoded data removed]"
          },
          "metadata": {
            "needs_background": "light"
          }
        }
      ]
    },
    {
      "cell_type": "code",
      "source": [
        "#plot history and logger\n",
        "pd.DataFrame(model.history.history)[['accuracy', 'val_accuracy']].plot(figsize = (9, 6), linewidth = 3)\n",
        "plt.grid(linestyle = '--', linewidth = 2)\n",
        "plt.ylim(0,1)\n",
        "plt.show()\n"
      ],
      "metadata": {
        "colab": {
          "base_uri": "https://localhost:8080/",
          "height": 378
        },
        "id": "i4WAnLKW22pu",
        "outputId": "ea022736-1219-455f-f017-c9d96a27813f"
      },
      "execution_count": null,
      "outputs": [
        {
          "output_type": "display_data",
          "data": {
            "text/plain": [
              "<Figure size 648x432 with 1 Axes>"
            ],
            "image/png": "[encoded data removed]"
          },
          "metadata": {
            "needs_background": "light"
          }
        }
      ]
    },
    {
      "cell_type": "code",
      "source": [
        "#evaluate model\n",
        "train_evaluation = model.evaluate(train_data, verbose = 0)\n",
        "valid_evaluation = model.evaluate(test_data, verbose = 0)\n",
        "\n",
        "print(f'Training Set Evaluation:\\n\\tLoss: {round(train_evaluation[0],4)}\\tAccuracy: {round(100*train_evaluation[1],2)}%')\n",
        "print(f'Validation Set Evaluation:\\n\\tLoss: {round(valid_evaluation[0],4)}\\tAccuracy: {round(100*valid_evaluation[1],2)}%')\n"
      ],
      "metadata": {
        "id": "5lPovDKpsDnd",
        "colab": {
          "base_uri": "https://localhost:8080/"
        },
        "outputId": "522afb5d-19e8-4762-8b93-53154fe8d93e"
      },
      "execution_count": null,
      "outputs": [
        {
          "output_type": "stream",
          "name": "stdout",
          "text": [
            "Training Set Evaluation:\n",
            "\tLoss: 0.0141\tAccuracy: 99.58%\n",
            "Validation Set Evaluation:\n",
            "\tLoss: 0.0067\tAccuracy: 99.87%\n"
          ]
        }
      ]
    },
    {
      "cell_type": "code",
      "source": [
        "#draw smaple image\n",
        "img = valid_data.sample(1)\n",
        "label = img.label.values\n",
        "img = img.drop('label', axis = 1)\n",
        "\n",
        "img = img.values.reshape((28,28))\n",
        "img = img/255;\n",
        "\n",
        "plt.axis('off')\n",
        "plt.imshow(img, cmap = 'Greys')\n",
        "plt.title(label[0])\n",
        "plt.show()\n"
      ],
      "metadata": {
        "id": "aXb7VGJVfIJ6",
        "colab": {
          "base_uri": "https://localhost:8080/",
          "height": 264
        },
        "outputId": "2bbbdb9a-fa00-4a98-b075-c4ed88ceb2b6"
      },
      "execution_count": null,
      "outputs": [
        {
          "output_type": "display_data",
          "data": {
            "text/plain": [
              "<Figure size 432x288 with 1 Axes>"
            ],
            "image/png": "[encoded data removed]"
          },
          "metadata": {
            "needs_background": "light"
          }
        }
      ]
    },
    {
      "cell_type": "code",
      "source": [
        "#model prediction\n",
        "img = np.expand_dims(img, 0)\n",
        "pred = pd.DataFrame(model.predict(img))\n",
        "pred.round(4)\n"
      ],
      "metadata": {
        "id": "cuwHGS-WgK4o",
        "colab": {
          "base_uri": "https://localhost:8080/",
          "height": 110
        },
        "outputId": "31c685b3-37c7-4806-b9ea-fd879eac683a"
      },
      "execution_count": null,
      "outputs": [
        {
          "output_type": "execute_result",
          "data": {
            "text/plain": [
              "    0    1    2    3    4    5    6    7    8    9   ...   16   17   18   19  \\\n",
              "0  0.0  0.0  0.0  0.0  0.0  0.0  0.0  0.0  0.0  0.0  ...  0.0  0.0  0.0  0.0   \n",
              "\n",
              "    20      21   22   23   24   25  \n",
              "0  0.0  0.9999  0.0  0.0  0.0  0.0  \n",
              "\n",
              "[1 rows x 26 columns]"
            ],
            "text/html": [
              "\n",
              "  <div id=\"df-3b1798f4-bcb7-463b-9c28-22b0b2b56f6b\">\n",
              "    <div class=\"colab-df-container\">\n",
              "      <div>\n",
              "<style scoped>\n",
              "    .dataframe tbody tr th:only-of-type {\n",
              "        vertical-align: middle;\n",
              "    }\n",
              "\n",
              "    .dataframe tbody tr th {\n",
              "        vertical-align: top;\n",
              "    }\n",
              "\n",
              "    .dataframe thead th {\n",
              "        text-align: right;\n",
              "    }\n",
              "</style>\n",
              "<table border=\"1\" class=\"dataframe\">\n",
              "  <thead>\n",
              "    <tr style=\"text-align: right;\">\n",
              "      <th></th>\n",
              "      <th>0</th>\n",
              "      <th>1</th>\n",
              "      <th>2</th>\n",
              "      <th>3</th>\n",
              "      <th>4</th>\n",
              "      <th>5</th>\n",
              "      <th>6</th>\n",
              "      <th>7</th>\n",
              "      <th>8</th>\n",
              "      <th>9</th>\n",
              "      <th>...</th>\n",
              "      <th>16</th>\n",
              "      <th>17</th>\n",
              "      <th>18</th>\n",
              "      <th>19</th>\n",
              "      <th>20</th>\n",
              "      <th>21</th>\n",
              "      <th>22</th>\n",
              "      <th>23</th>\n",
              "      <th>24</th>\n",
              "      <th>25</th>\n",
              "    </tr>\n",
              "  </thead>\n",
              "  <tbody>\n",
              "    <tr>\n",
              "      <th>0</th>\n",
              "      <td>0.0</td>\n",
              "      <td>0.0</td>\n",
              "      <td>0.0</td>\n",
              "      <td>0.0</td>\n",
              "      <td>0.0</td>\n",
              "      <td>0.0</td>\n",
              "      <td>0.0</td>\n",
              "      <td>0.0</td>\n",
              "      <td>0.0</td>\n",
              "      <td>0.0</td>\n",
              "      <td>...</td>\n",
              "      <td>0.0</td>\n",
              "      <td>0.0</td>\n",
              "      <td>0.0</td>\n",
              "      <td>0.0</td>\n",
              "      <td>0.0</td>\n",
              "      <td>0.9999</td>\n",
              "      <td>0.0</td>\n",
              "      <td>0.0</td>\n",
              "      <td>0.0</td>\n",
              "      <td>0.0</td>\n",
              "    </tr>\n",
              "  </tbody>\n",
              "</table>\n",
              "<p>1 rows × 26 columns</p>\n",
              "</div>\n",
              "      <button class=\"colab-df-convert\" onclick=\"convertToInteractive('df-3b1798f4-bcb7-463b-9c28-22b0b2b56f6b')\"\n",
              "              title=\"Convert this dataframe to an interactive table.\"\n",
              "              style=\"display:none;\">\n",
              "        \n",
              "  <svg xmlns=\"http://www.w3.org/2000/svg\" height=\"24px\"viewBox=\"0 0 24 24\"\n",
              "       width=\"24px\">\n",
              "    <path d=\"M0 0h24v24H0V0z\" fill=\"none\"/>\n",
              "    <path d=\"M18.56 5.44l.94 2.06.94-2.06 2.06-.94-2.06-.94-.94-2.06-.94 2.06-2.06.94zm-11 1L8.5 8.5l.94-2.06 2.06-.94-2.06-.94L8.5 2.5l-.94 2.06-2.06.94zm10 10l.94 2.06.94-2.06 2.06-.94-2.06-.94-.94-2.06-.94 2.06-2.06.94z\"/><path d=\"M17.41 7.96l-1.37-1.37c-.4-.4-.92-.59-1.43-.59-.52 0-1.04.2-1.43.59L10.3 9.45l-7.72 7.72c-.78.78-.78 2.05 0 2.83L4 21.41c.39.39.9.59 1.41.59.51 0 1.02-.2 1.41-.59l7.78-7.78 2.81-2.81c.8-.78.8-2.07 0-2.86zM5.41 20L4 18.59l7.72-7.72 1.47 1.35L5.41 20z\"/>\n",
              "  </svg>\n",
              "      </button>\n",
              "      \n",
              "  <style>\n",
              "    .colab-df-container {\n",
              "      display:flex;\n",
              "      flex-wrap:wrap;\n",
              "      gap: 12px;\n",
              "    }\n",
              "\n",
              "    .colab-df-convert {\n",
              "      background-color: #E8F0FE;\n",
              "      border: none;\n",
              "      border-radius: 50%;\n",
              "      cursor: pointer;\n",
              "      display: none;\n",
              "      fill: #1967D2;\n",
              "      height: 32px;\n",
              "      padding: 0 0 0 0;\n",
              "      width: 32px;\n",
              "    }\n",
              "\n",
              "    .colab-df-convert:hover {\n",
              "      background-color: #E2EBFA;\n",
              "      box-shadow: 0px 1px 2px rgba(60, 64, 67, 0.3), 0px 1px 3px 1px rgba(60, 64, 67, 0.15);\n",
              "      fill: #174EA6;\n",
              "    }\n",
              "\n",
              "    [theme=dark] .colab-df-convert {\n",
              "      background-color: #3B4455;\n",
              "      fill: #D2E3FC;\n",
              "    }\n",
              "\n",
              "    [theme=dark] .colab-df-convert:hover {\n",
              "      background-color: #434B5C;\n",
              "      box-shadow: 0px 1px 3px 1px rgba(0, 0, 0, 0.15);\n",
              "      filter: drop-shadow(0px 1px 2px rgba(0, 0, 0, 0.3));\n",
              "      fill: #FFFFFF;\n",
              "    }\n",
              "  </style>\n",
              "\n",
              "      <script>\n",
              "        const buttonEl =\n",
              "          document.querySelector('#df-3b1798f4-bcb7-463b-9c28-22b0b2b56f6b button.colab-df-convert');\n",
              "        buttonEl.style.display =\n",
              "          google.colab.kernel.accessAllowed ? 'block' : 'none';\n",
              "\n",
              "        async function convertToInteractive(key) {\n",
              "          const element = document.querySelector('#df-3b1798f4-bcb7-463b-9c28-22b0b2b56f6b');\n",
              "          const dataTable =\n",
              "            await google.colab.kernel.invokeFunction('convertToInteractive',\n",
              "                                                     [key], {});\n",
              "          if (!dataTable) return;\n",
              "\n",
              "          const docLinkHtml = 'Like what you see? Visit the ' +\n",
              "            '<a target=\"_blank\" href=https://colab.research.google.com/notebooks/data_table.ipynb>data table notebook</a>'\n",
              "            + ' to learn more about interactive tables.';\n",
              "          element.innerHTML = '';\n",
              "          dataTable['output_type'] = 'display_data';\n",
              "          await google.colab.output.renderOutput(dataTable, element);\n",
              "          const docLink = document.createElement('div');\n",
              "          docLink.innerHTML = docLinkHtml;\n",
              "          element.appendChild(docLink);\n",
              "        }\n",
              "      </script>\n",
              "    </div>\n",
              "  </div>\n",
              "  "
            ]
          },
          "metadata": {},
          "execution_count": 15
        }
      ]
    },
    {
      "cell_type": "code",
      "source": [
        "#save model\n",
        "model.save('/content/sign-language-recognition-model.h5')\n"
      ],
      "metadata": {
        "id": "Z_kBt0SfbDAk"
      },
      "execution_count": null,
      "outputs": []
    }
  ]
}